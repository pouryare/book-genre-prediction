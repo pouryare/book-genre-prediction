{
  "nbformat": 4,
  "nbformat_minor": 0,
  "metadata": {
    "colab": {
      "provenance": []
    },
    "kernelspec": {
      "name": "python3",
      "display_name": "Python 3"
    },
    "language_info": {
      "name": "python"
    }
  },
  "cells": [
    {
      "cell_type": "code",
      "execution_count": 1,
      "metadata": {
        "colab": {
          "base_uri": "https://localhost:8080/",
          "height": 92
        },
        "id": "nHZNIK9pV1zg",
        "outputId": "a91dcd97-4c2c-40c0-ce77-9c77700b3336"
      },
      "outputs": [
        {
          "output_type": "display_data",
          "data": {
            "text/plain": [
              "<IPython.core.display.HTML object>"
            ],
            "text/html": [
              "\n",
              "     <input type=\"file\" id=\"files-30d9c89f-88ac-4e21-9821-49902b7a3e41\" name=\"files[]\" multiple disabled\n",
              "        style=\"border:none\" />\n",
              "     <output id=\"result-30d9c89f-88ac-4e21-9821-49902b7a3e41\">\n",
              "      Upload widget is only available when the cell has been executed in the\n",
              "      current browser session. Please rerun this cell to enable.\n",
              "      </output>\n",
              "      <script>// Copyright 2017 Google LLC\n",
              "//\n",
              "// Licensed under the Apache License, Version 2.0 (the \"License\");\n",
              "// you may not use this file except in compliance with the License.\n",
              "// You may obtain a copy of the License at\n",
              "//\n",
              "//      http://www.apache.org/licenses/LICENSE-2.0\n",
              "//\n",
              "// Unless required by applicable law or agreed to in writing, software\n",
              "// distributed under the License is distributed on an \"AS IS\" BASIS,\n",
              "// WITHOUT WARRANTIES OR CONDITIONS OF ANY KIND, either express or implied.\n",
              "// See the License for the specific language governing permissions and\n",
              "// limitations under the License.\n",
              "\n",
              "/**\n",
              " * @fileoverview Helpers for google.colab Python module.\n",
              " */\n",
              "(function(scope) {\n",
              "function span(text, styleAttributes = {}) {\n",
              "  const element = document.createElement('span');\n",
              "  element.textContent = text;\n",
              "  for (const key of Object.keys(styleAttributes)) {\n",
              "    element.style[key] = styleAttributes[key];\n",
              "  }\n",
              "  return element;\n",
              "}\n",
              "\n",
              "// Max number of bytes which will be uploaded at a time.\n",
              "const MAX_PAYLOAD_SIZE = 100 * 1024;\n",
              "\n",
              "function _uploadFiles(inputId, outputId) {\n",
              "  const steps = uploadFilesStep(inputId, outputId);\n",
              "  const outputElement = document.getElementById(outputId);\n",
              "  // Cache steps on the outputElement to make it available for the next call\n",
              "  // to uploadFilesContinue from Python.\n",
              "  outputElement.steps = steps;\n",
              "\n",
              "  return _uploadFilesContinue(outputId);\n",
              "}\n",
              "\n",
              "// This is roughly an async generator (not supported in the browser yet),\n",
              "// where there are multiple asynchronous steps and the Python side is going\n",
              "// to poll for completion of each step.\n",
              "// This uses a Promise to block the python side on completion of each step,\n",
              "// then passes the result of the previous step as the input to the next step.\n",
              "function _uploadFilesContinue(outputId) {\n",
              "  const outputElement = document.getElementById(outputId);\n",
              "  const steps = outputElement.steps;\n",
              "\n",
              "  const next = steps.next(outputElement.lastPromiseValue);\n",
              "  return Promise.resolve(next.value.promise).then((value) => {\n",
              "    // Cache the last promise value to make it available to the next\n",
              "    // step of the generator.\n",
              "    outputElement.lastPromiseValue = value;\n",
              "    return next.value.response;\n",
              "  });\n",
              "}\n",
              "\n",
              "/**\n",
              " * Generator function which is called between each async step of the upload\n",
              " * process.\n",
              " * @param {string} inputId Element ID of the input file picker element.\n",
              " * @param {string} outputId Element ID of the output display.\n",
              " * @return {!Iterable<!Object>} Iterable of next steps.\n",
              " */\n",
              "function* uploadFilesStep(inputId, outputId) {\n",
              "  const inputElement = document.getElementById(inputId);\n",
              "  inputElement.disabled = false;\n",
              "\n",
              "  const outputElement = document.getElementById(outputId);\n",
              "  outputElement.innerHTML = '';\n",
              "\n",
              "  const pickedPromise = new Promise((resolve) => {\n",
              "    inputElement.addEventListener('change', (e) => {\n",
              "      resolve(e.target.files);\n",
              "    });\n",
              "  });\n",
              "\n",
              "  const cancel = document.createElement('button');\n",
              "  inputElement.parentElement.appendChild(cancel);\n",
              "  cancel.textContent = 'Cancel upload';\n",
              "  const cancelPromise = new Promise((resolve) => {\n",
              "    cancel.onclick = () => {\n",
              "      resolve(null);\n",
              "    };\n",
              "  });\n",
              "\n",
              "  // Wait for the user to pick the files.\n",
              "  const files = yield {\n",
              "    promise: Promise.race([pickedPromise, cancelPromise]),\n",
              "    response: {\n",
              "      action: 'starting',\n",
              "    }\n",
              "  };\n",
              "\n",
              "  cancel.remove();\n",
              "\n",
              "  // Disable the input element since further picks are not allowed.\n",
              "  inputElement.disabled = true;\n",
              "\n",
              "  if (!files) {\n",
              "    return {\n",
              "      response: {\n",
              "        action: 'complete',\n",
              "      }\n",
              "    };\n",
              "  }\n",
              "\n",
              "  for (const file of files) {\n",
              "    const li = document.createElement('li');\n",
              "    li.append(span(file.name, {fontWeight: 'bold'}));\n",
              "    li.append(span(\n",
              "        `(${file.type || 'n/a'}) - ${file.size} bytes, ` +\n",
              "        `last modified: ${\n",
              "            file.lastModifiedDate ? file.lastModifiedDate.toLocaleDateString() :\n",
              "                                    'n/a'} - `));\n",
              "    const percent = span('0% done');\n",
              "    li.appendChild(percent);\n",
              "\n",
              "    outputElement.appendChild(li);\n",
              "\n",
              "    const fileDataPromise = new Promise((resolve) => {\n",
              "      const reader = new FileReader();\n",
              "      reader.onload = (e) => {\n",
              "        resolve(e.target.result);\n",
              "      };\n",
              "      reader.readAsArrayBuffer(file);\n",
              "    });\n",
              "    // Wait for the data to be ready.\n",
              "    let fileData = yield {\n",
              "      promise: fileDataPromise,\n",
              "      response: {\n",
              "        action: 'continue',\n",
              "      }\n",
              "    };\n",
              "\n",
              "    // Use a chunked sending to avoid message size limits. See b/62115660.\n",
              "    let position = 0;\n",
              "    do {\n",
              "      const length = Math.min(fileData.byteLength - position, MAX_PAYLOAD_SIZE);\n",
              "      const chunk = new Uint8Array(fileData, position, length);\n",
              "      position += length;\n",
              "\n",
              "      const base64 = btoa(String.fromCharCode.apply(null, chunk));\n",
              "      yield {\n",
              "        response: {\n",
              "          action: 'append',\n",
              "          file: file.name,\n",
              "          data: base64,\n",
              "        },\n",
              "      };\n",
              "\n",
              "      let percentDone = fileData.byteLength === 0 ?\n",
              "          100 :\n",
              "          Math.round((position / fileData.byteLength) * 100);\n",
              "      percent.textContent = `${percentDone}% done`;\n",
              "\n",
              "    } while (position < fileData.byteLength);\n",
              "  }\n",
              "\n",
              "  // All done.\n",
              "  yield {\n",
              "    response: {\n",
              "      action: 'complete',\n",
              "    }\n",
              "  };\n",
              "}\n",
              "\n",
              "scope.google = scope.google || {};\n",
              "scope.google.colab = scope.google.colab || {};\n",
              "scope.google.colab._files = {\n",
              "  _uploadFiles,\n",
              "  _uploadFilesContinue,\n",
              "};\n",
              "})(self);\n",
              "</script> "
            ]
          },
          "metadata": {}
        },
        {
          "output_type": "stream",
          "name": "stdout",
          "text": [
            "Saving BooksDataSet.csv to BooksDataSet.csv\n",
            "User uploaded file \"BooksDataSet.csv\" with length 8305126 bytes\n"
          ]
        }
      ],
      "source": [
        "from google.colab import files\n",
        "\n",
        "uploaded = files.upload()\n",
        "\n",
        "for fn in uploaded.keys():\n",
        "  print('User uploaded file \"{name}\" with length {length} bytes'.format(\n",
        "      name=fn, length=len(uploaded[fn])))\n",
        "\n",
        "  with open('/content/drive/MyDrive/ML/Book genre classification/' + fn, 'wb') as f:\n",
        "    f.write(uploaded[fn])"
      ]
    },
    {
      "cell_type": "code",
      "source": [
        "# Import necessary libraries\n",
        "import pandas as pd\n",
        "import numpy as np\n",
        "import matplotlib.pyplot as plt\n",
        "import seaborn as sns\n",
        "import re\n",
        "from collections import Counter\n",
        "from sklearn.feature_extraction.text import CountVectorizer, TfidfVectorizer\n",
        "from sklearn.model_selection import train_test_split\n",
        "from sklearn.naive_bayes import MultinomialNB\n",
        "from sklearn.svm import SVC\n",
        "from sklearn.ensemble import RandomForestClassifier\n",
        "from sklearn import metrics\n",
        "from sklearn.preprocessing import LabelEncoder\n",
        "from sklearn.model_selection import GridSearchCV\n",
        "import nltk\n",
        "from nltk.corpus import stopwords\n",
        "from nltk.stem import WordNetLemmatizer\n",
        "from nltk.stem import PorterStemmer\n",
        "import joblib"
      ],
      "metadata": {
        "id": "il2XyS4mKjYa"
      },
      "execution_count": 1,
      "outputs": []
    },
    {
      "cell_type": "code",
      "source": [
        "# Download required NLTK data\n",
        "nltk.download('stopwords')\n",
        "nltk.download('wordnet')"
      ],
      "metadata": {
        "colab": {
          "base_uri": "https://localhost:8080/"
        },
        "id": "hIsE2mD5KjRu",
        "outputId": "9a9748e6-4aea-47e4-e619-f4dc24903660"
      },
      "execution_count": 2,
      "outputs": [
        {
          "output_type": "stream",
          "name": "stderr",
          "text": [
            "[nltk_data] Downloading package stopwords to /root/nltk_data...\n",
            "[nltk_data]   Unzipping corpora/stopwords.zip.\n",
            "[nltk_data] Downloading package wordnet to /root/nltk_data...\n"
          ]
        },
        {
          "output_type": "execute_result",
          "data": {
            "text/plain": [
              "True"
            ]
          },
          "metadata": {},
          "execution_count": 2
        }
      ]
    },
    {
      "cell_type": "code",
      "source": [
        "# Load the dataset\n",
        "books = pd.read_csv('/content/drive/MyDrive/ML/Book genre classification/BooksDataSet.csv')"
      ],
      "metadata": {
        "id": "7Hqw-_xxKjOy"
      },
      "execution_count": 3,
      "outputs": []
    },
    {
      "cell_type": "code",
      "source": [
        "# Display the first few rows of the dataset\n",
        "books.head()"
      ],
      "metadata": {
        "colab": {
          "base_uri": "https://localhost:8080/",
          "height": 206
        },
        "id": "Gh7eCmNOKjIc",
        "outputId": "67da2560-0c6d-4821-cfa4-c4d77b6da252"
      },
      "execution_count": 4,
      "outputs": [
        {
          "output_type": "execute_result",
          "data": {
            "text/plain": [
              "   Unnamed: 0   book_id                  book_name    genre  \\\n",
              "0           0   3248537          Drowned Wednesday  Fantasy   \n",
              "1           1  27796919              The Lost Hero  Fantasy   \n",
              "2           2   3910776  The Eyes of the Overworld  Fantasy   \n",
              "3           3   5969644            Magic's Promise  Fantasy   \n",
              "4           4   3173445             Taran Wanderer  Fantasy   \n",
              "\n",
              "                                             summary  \n",
              "0   Drowned Wednesday is the first Trustee among ...  \n",
              "1   As the book opens, Jason awakens on a school ...  \n",
              "2   Cugel is easily persuaded by the merchant Fia...  \n",
              "3   The book opens with Herald-Mage Vanyel return...  \n",
              "4   Taran and Gurgi have returned to Caer Dallben...  "
            ],
            "text/html": [
              "\n",
              "  <div id=\"df-9fcf6249-6d84-422b-aeb0-eea8d15a3a00\" class=\"colab-df-container\">\n",
              "    <div>\n",
              "<style scoped>\n",
              "    .dataframe tbody tr th:only-of-type {\n",
              "        vertical-align: middle;\n",
              "    }\n",
              "\n",
              "    .dataframe tbody tr th {\n",
              "        vertical-align: top;\n",
              "    }\n",
              "\n",
              "    .dataframe thead th {\n",
              "        text-align: right;\n",
              "    }\n",
              "</style>\n",
              "<table border=\"1\" class=\"dataframe\">\n",
              "  <thead>\n",
              "    <tr style=\"text-align: right;\">\n",
              "      <th></th>\n",
              "      <th>Unnamed: 0</th>\n",
              "      <th>book_id</th>\n",
              "      <th>book_name</th>\n",
              "      <th>genre</th>\n",
              "      <th>summary</th>\n",
              "    </tr>\n",
              "  </thead>\n",
              "  <tbody>\n",
              "    <tr>\n",
              "      <th>0</th>\n",
              "      <td>0</td>\n",
              "      <td>3248537</td>\n",
              "      <td>Drowned Wednesday</td>\n",
              "      <td>Fantasy</td>\n",
              "      <td>Drowned Wednesday is the first Trustee among ...</td>\n",
              "    </tr>\n",
              "    <tr>\n",
              "      <th>1</th>\n",
              "      <td>1</td>\n",
              "      <td>27796919</td>\n",
              "      <td>The Lost Hero</td>\n",
              "      <td>Fantasy</td>\n",
              "      <td>As the book opens, Jason awakens on a school ...</td>\n",
              "    </tr>\n",
              "    <tr>\n",
              "      <th>2</th>\n",
              "      <td>2</td>\n",
              "      <td>3910776</td>\n",
              "      <td>The Eyes of the Overworld</td>\n",
              "      <td>Fantasy</td>\n",
              "      <td>Cugel is easily persuaded by the merchant Fia...</td>\n",
              "    </tr>\n",
              "    <tr>\n",
              "      <th>3</th>\n",
              "      <td>3</td>\n",
              "      <td>5969644</td>\n",
              "      <td>Magic's Promise</td>\n",
              "      <td>Fantasy</td>\n",
              "      <td>The book opens with Herald-Mage Vanyel return...</td>\n",
              "    </tr>\n",
              "    <tr>\n",
              "      <th>4</th>\n",
              "      <td>4</td>\n",
              "      <td>3173445</td>\n",
              "      <td>Taran Wanderer</td>\n",
              "      <td>Fantasy</td>\n",
              "      <td>Taran and Gurgi have returned to Caer Dallben...</td>\n",
              "    </tr>\n",
              "  </tbody>\n",
              "</table>\n",
              "</div>\n",
              "    <div class=\"colab-df-buttons\">\n",
              "\n",
              "  <div class=\"colab-df-container\">\n",
              "    <button class=\"colab-df-convert\" onclick=\"convertToInteractive('df-9fcf6249-6d84-422b-aeb0-eea8d15a3a00')\"\n",
              "            title=\"Convert this dataframe to an interactive table.\"\n",
              "            style=\"display:none;\">\n",
              "\n",
              "  <svg xmlns=\"http://www.w3.org/2000/svg\" height=\"24px\" viewBox=\"0 -960 960 960\">\n",
              "    <path d=\"M120-120v-720h720v720H120Zm60-500h600v-160H180v160Zm220 220h160v-160H400v160Zm0 220h160v-160H400v160ZM180-400h160v-160H180v160Zm440 0h160v-160H620v160ZM180-180h160v-160H180v160Zm440 0h160v-160H620v160Z\"/>\n",
              "  </svg>\n",
              "    </button>\n",
              "\n",
              "  <style>\n",
              "    .colab-df-container {\n",
              "      display:flex;\n",
              "      gap: 12px;\n",
              "    }\n",
              "\n",
              "    .colab-df-convert {\n",
              "      background-color: #E8F0FE;\n",
              "      border: none;\n",
              "      border-radius: 50%;\n",
              "      cursor: pointer;\n",
              "      display: none;\n",
              "      fill: #1967D2;\n",
              "      height: 32px;\n",
              "      padding: 0 0 0 0;\n",
              "      width: 32px;\n",
              "    }\n",
              "\n",
              "    .colab-df-convert:hover {\n",
              "      background-color: #E2EBFA;\n",
              "      box-shadow: 0px 1px 2px rgba(60, 64, 67, 0.3), 0px 1px 3px 1px rgba(60, 64, 67, 0.15);\n",
              "      fill: #174EA6;\n",
              "    }\n",
              "\n",
              "    .colab-df-buttons div {\n",
              "      margin-bottom: 4px;\n",
              "    }\n",
              "\n",
              "    [theme=dark] .colab-df-convert {\n",
              "      background-color: #3B4455;\n",
              "      fill: #D2E3FC;\n",
              "    }\n",
              "\n",
              "    [theme=dark] .colab-df-convert:hover {\n",
              "      background-color: #434B5C;\n",
              "      box-shadow: 0px 1px 3px 1px rgba(0, 0, 0, 0.15);\n",
              "      filter: drop-shadow(0px 1px 2px rgba(0, 0, 0, 0.3));\n",
              "      fill: #FFFFFF;\n",
              "    }\n",
              "  </style>\n",
              "\n",
              "    <script>\n",
              "      const buttonEl =\n",
              "        document.querySelector('#df-9fcf6249-6d84-422b-aeb0-eea8d15a3a00 button.colab-df-convert');\n",
              "      buttonEl.style.display =\n",
              "        google.colab.kernel.accessAllowed ? 'block' : 'none';\n",
              "\n",
              "      async function convertToInteractive(key) {\n",
              "        const element = document.querySelector('#df-9fcf6249-6d84-422b-aeb0-eea8d15a3a00');\n",
              "        const dataTable =\n",
              "          await google.colab.kernel.invokeFunction('convertToInteractive',\n",
              "                                                    [key], {});\n",
              "        if (!dataTable) return;\n",
              "\n",
              "        const docLinkHtml = 'Like what you see? Visit the ' +\n",
              "          '<a target=\"_blank\" href=https://colab.research.google.com/notebooks/data_table.ipynb>data table notebook</a>'\n",
              "          + ' to learn more about interactive tables.';\n",
              "        element.innerHTML = '';\n",
              "        dataTable['output_type'] = 'display_data';\n",
              "        await google.colab.output.renderOutput(dataTable, element);\n",
              "        const docLink = document.createElement('div');\n",
              "        docLink.innerHTML = docLinkHtml;\n",
              "        element.appendChild(docLink);\n",
              "      }\n",
              "    </script>\n",
              "  </div>\n",
              "\n",
              "\n",
              "<div id=\"df-a6cabdc4-da48-4c53-a438-405c3d636d0e\">\n",
              "  <button class=\"colab-df-quickchart\" onclick=\"quickchart('df-a6cabdc4-da48-4c53-a438-405c3d636d0e')\"\n",
              "            title=\"Suggest charts\"\n",
              "            style=\"display:none;\">\n",
              "\n",
              "<svg xmlns=\"http://www.w3.org/2000/svg\" height=\"24px\"viewBox=\"0 0 24 24\"\n",
              "     width=\"24px\">\n",
              "    <g>\n",
              "        <path d=\"M19 3H5c-1.1 0-2 .9-2 2v14c0 1.1.9 2 2 2h14c1.1 0 2-.9 2-2V5c0-1.1-.9-2-2-2zM9 17H7v-7h2v7zm4 0h-2V7h2v10zm4 0h-2v-4h2v4z\"/>\n",
              "    </g>\n",
              "</svg>\n",
              "  </button>\n",
              "\n",
              "<style>\n",
              "  .colab-df-quickchart {\n",
              "      --bg-color: #E8F0FE;\n",
              "      --fill-color: #1967D2;\n",
              "      --hover-bg-color: #E2EBFA;\n",
              "      --hover-fill-color: #174EA6;\n",
              "      --disabled-fill-color: #AAA;\n",
              "      --disabled-bg-color: #DDD;\n",
              "  }\n",
              "\n",
              "  [theme=dark] .colab-df-quickchart {\n",
              "      --bg-color: #3B4455;\n",
              "      --fill-color: #D2E3FC;\n",
              "      --hover-bg-color: #434B5C;\n",
              "      --hover-fill-color: #FFFFFF;\n",
              "      --disabled-bg-color: #3B4455;\n",
              "      --disabled-fill-color: #666;\n",
              "  }\n",
              "\n",
              "  .colab-df-quickchart {\n",
              "    background-color: var(--bg-color);\n",
              "    border: none;\n",
              "    border-radius: 50%;\n",
              "    cursor: pointer;\n",
              "    display: none;\n",
              "    fill: var(--fill-color);\n",
              "    height: 32px;\n",
              "    padding: 0;\n",
              "    width: 32px;\n",
              "  }\n",
              "\n",
              "  .colab-df-quickchart:hover {\n",
              "    background-color: var(--hover-bg-color);\n",
              "    box-shadow: 0 1px 2px rgba(60, 64, 67, 0.3), 0 1px 3px 1px rgba(60, 64, 67, 0.15);\n",
              "    fill: var(--button-hover-fill-color);\n",
              "  }\n",
              "\n",
              "  .colab-df-quickchart-complete:disabled,\n",
              "  .colab-df-quickchart-complete:disabled:hover {\n",
              "    background-color: var(--disabled-bg-color);\n",
              "    fill: var(--disabled-fill-color);\n",
              "    box-shadow: none;\n",
              "  }\n",
              "\n",
              "  .colab-df-spinner {\n",
              "    border: 2px solid var(--fill-color);\n",
              "    border-color: transparent;\n",
              "    border-bottom-color: var(--fill-color);\n",
              "    animation:\n",
              "      spin 1s steps(1) infinite;\n",
              "  }\n",
              "\n",
              "  @keyframes spin {\n",
              "    0% {\n",
              "      border-color: transparent;\n",
              "      border-bottom-color: var(--fill-color);\n",
              "      border-left-color: var(--fill-color);\n",
              "    }\n",
              "    20% {\n",
              "      border-color: transparent;\n",
              "      border-left-color: var(--fill-color);\n",
              "      border-top-color: var(--fill-color);\n",
              "    }\n",
              "    30% {\n",
              "      border-color: transparent;\n",
              "      border-left-color: var(--fill-color);\n",
              "      border-top-color: var(--fill-color);\n",
              "      border-right-color: var(--fill-color);\n",
              "    }\n",
              "    40% {\n",
              "      border-color: transparent;\n",
              "      border-right-color: var(--fill-color);\n",
              "      border-top-color: var(--fill-color);\n",
              "    }\n",
              "    60% {\n",
              "      border-color: transparent;\n",
              "      border-right-color: var(--fill-color);\n",
              "    }\n",
              "    80% {\n",
              "      border-color: transparent;\n",
              "      border-right-color: var(--fill-color);\n",
              "      border-bottom-color: var(--fill-color);\n",
              "    }\n",
              "    90% {\n",
              "      border-color: transparent;\n",
              "      border-bottom-color: var(--fill-color);\n",
              "    }\n",
              "  }\n",
              "</style>\n",
              "\n",
              "  <script>\n",
              "    async function quickchart(key) {\n",
              "      const quickchartButtonEl =\n",
              "        document.querySelector('#' + key + ' button');\n",
              "      quickchartButtonEl.disabled = true;  // To prevent multiple clicks.\n",
              "      quickchartButtonEl.classList.add('colab-df-spinner');\n",
              "      try {\n",
              "        const charts = await google.colab.kernel.invokeFunction(\n",
              "            'suggestCharts', [key], {});\n",
              "      } catch (error) {\n",
              "        console.error('Error during call to suggestCharts:', error);\n",
              "      }\n",
              "      quickchartButtonEl.classList.remove('colab-df-spinner');\n",
              "      quickchartButtonEl.classList.add('colab-df-quickchart-complete');\n",
              "    }\n",
              "    (() => {\n",
              "      let quickchartButtonEl =\n",
              "        document.querySelector('#df-a6cabdc4-da48-4c53-a438-405c3d636d0e button');\n",
              "      quickchartButtonEl.style.display =\n",
              "        google.colab.kernel.accessAllowed ? 'block' : 'none';\n",
              "    })();\n",
              "  </script>\n",
              "</div>\n",
              "\n",
              "    </div>\n",
              "  </div>\n"
            ],
            "application/vnd.google.colaboratory.intrinsic+json": {
              "type": "dataframe",
              "variable_name": "books",
              "summary": "{\n  \"name\": \"books\",\n  \"rows\": 3000,\n  \"fields\": [\n    {\n      \"column\": \"Unnamed: 0\",\n      \"properties\": {\n        \"dtype\": \"number\",\n        \"std\": 866,\n        \"min\": 0,\n        \"max\": 2999,\n        \"num_unique_values\": 3000,\n        \"samples\": [\n          1801,\n          1190,\n          1817\n        ],\n        \"semantic_type\": \"\",\n        \"description\": \"\"\n      }\n    },\n    {\n      \"column\": \"book_id\",\n      \"properties\": {\n        \"dtype\": \"number\",\n        \"std\": 8375374,\n        \"min\": 843,\n        \"max\": 37054020,\n        \"num_unique_values\": 3000,\n        \"samples\": [\n          2795327,\n          9350572,\n          9366759\n        ],\n        \"semantic_type\": \"\",\n        \"description\": \"\"\n      }\n    },\n    {\n      \"column\": \"book_name\",\n      \"properties\": {\n        \"dtype\": \"string\",\n        \"num_unique_values\": 2970,\n        \"samples\": [\n          \"Some of Your Blood\",\n          \"To Fear A Painted Devil\",\n          \"The Wolf's Hour\"\n        ],\n        \"semantic_type\": \"\",\n        \"description\": \"\"\n      }\n    },\n    {\n      \"column\": \"genre\",\n      \"properties\": {\n        \"dtype\": \"category\",\n        \"num_unique_values\": 6,\n        \"samples\": [\n          \"Fantasy\",\n          \"Science Fiction\",\n          \"Thriller\"\n        ],\n        \"semantic_type\": \"\",\n        \"description\": \"\"\n      }\n    },\n    {\n      \"column\": \"summary\",\n      \"properties\": {\n        \"dtype\": \"string\",\n        \"num_unique_values\": 2998,\n        \"samples\": [\n          \" It is Christmas Eve and everyone in the house hears the crashing of furniture, followed by a wailing and hideous scream. When they get to Simeon Lee's room, they find it locked and they have to break the door down. When they finally get through the door, they find heavy furniture overturned and Simeon Lee dead, his throat slit, in a great pool of blood. Superintendent Sugden notices Pilar Estravados pick up something from the floor. She tries to conceal what she picked up, but when pressed, opens her hand to show a small bit of rubber and a small object made of wood. Superintendent Sugden explains that he is in the house by prior arrangement with the victim, who confided to him the theft of a substantial quantity of uncut diamonds from his safe. When Poirot is called in to investigate, there are therefore several main problems: who killed the victim? How was the victim killed inside a locked room? Was the murder connected to the theft of the diamonds? And what is the significance of the small triangle of rubber and the peg that Sugden is able to provide when reminded by Poirot of the clue that had been picked up by Pilar? Poirot\\u2019s investigation explores the nature of the victim \\u2013 a methodical and vengeful man \\u2013 and the way that these characteristics come out in his children. He seems focused on the idea that one of the immediate family is the murderer. When the butler mentions his confusion about the identities of the house guests, Poirot realizes that the four legitimate sons may not be the only heirs of Simeon\\u2019s temperament. The final major clue is dropped by Pilar, who while playing with balloons and one bursts, lets slip that what she found on the floor must also have been a balloon. She knows more than she realizes. Poirot warns her to be careful.\",\n          \" The story opens in the lower levels of Coruscant in 24 ABY, only a few months prior to the Yuuzhan Vong Invasion. Boba Fett has just chased down another bounty, a Rodian art dealer who sold fake works to Gebbu the Hutt. Meanwhile on Nar Shaddaa, Nom Anor, posing under the alias Udelen, recruits a Mandalorian named Goran Beviin to assassinate a politician on Ter Abbes, a grim industrial planet off the Perlemian Trade Route. Bevin quickly realizes that if the man is killed it will trigger a civil war, but even after he voices his misgivings to Boba he still carries out the mission. Nom Anor notes that Bevin did an efficient job of removing the target and plans to meet Fett for the second time on Mandalore and the capital city, Kedalbe. Nom Anor notes that Mandalore is already on his list of a world that will be harder to subdue. Anor arrives on the planet, again under the alias of Udelen and provides Fett with the location of a rendezvous where he and a select number of Fett's troops are to meet. Anor plans to reveal his true nature to Fett as the location lies along the main invasion route the Yuuzhan Vong will take into the galaxy. As the Mandalorian fleet awaits the arrival of their client, Bevin becomes impatient and scouts around for Udelen. He soon encounters what he assumes to be an asteroid, but is actually a Yuuzhan Vong ship. Unsure of what to make of their new arrivals, the Mandalorians enter battle formation and wait. Soon though, Nom Anor makes contact with Fett and asks him to board the lead ship for a face to face meeting. Once aboard the miid ro'ik warship Fett orders Bevin to discreetly gather any samples he can, while Fett runs scans with his helmet. While touring the ship, Anor explains the Yuuzhan Vong vision for the galaxy and how the Mandalorians will play a part in shaping it and both Fett and Bevin witness first hand the plans the Vong have for the humans they capture. Anor then gives Fett the plans for the next mission he has planned for the Mandalorians, to secure a landing zone on Birgis, in exchange for their continued service the Mandalore sector will be left alone. Fett knows this is a lie and that the Vong will come for them eventually, he plans to ensure he's ready when that day comes. Fett plans to use the inside track he now has to do as much damage to the invaders as possible, while he appears to help them he will do all he can to hinder them at the same time. Nom Anor amends his report, instead believing that enslaving the Mandalorians is the best way of dealing with them. One week after the invasion of Helska 4, the Mandalorians assault the spaceport on Birgis. Fett, Bevin and Cham, another Mandalorian warrior, spearhead the assault. Fett hopes to use this moment to pass on vital intel to the New Republic. Passing the intel on to a pilot during the assault, Fett only hopes that the Republic won't blow their cover. Typically, the Yuuzhan Vong leave no survivors at the spaceport. New Holgha, however, the Vong's next target remains unevacuated, the Republic hasn't acted on the intel, obviously not trusting its source. With the planets defenses sabotaged and its troops relocated elsewhere, the world falls without a serious fight. Instead, the Republic diverted troops to Pedd 4 and now New Holgha suffers, as Fett observes a miit ro'ik digest everything around it for fuel, he is reminded of the Sarlacc. As he contemplates a better and more reliable way to pass intel to the Republic, a Vong warrior asks him to assist in killing a Jedi. While Bevin stalls the Vong, Fett and a few others subdue the Jedi, who is skeptical at first, but then believes Fett and agrees to take the information off planet. As the Jedi leaves for his hidden ship, Bevin arrives, followed by the Vong warrior. When he asks what happened to the Jedi, Fett and the others kill him, with Bevin using his crushgaunts to kill the warrior. While the others collect samples from the dead warrior, Bevin scalps him for a trophy. Briika, a Mandalorian female warrior, is fatally wounded in the encounter though and dies when she reaches Slave 1. Bevin, keeping a promise he made to her, adopts Dinua, Briika's daughter as his own. Nom Anor lays plans to accelerate the coming invasion of Mandalore, he believes that the reports of the Mandalorians savagery have been greatly exaggerated. He still plans to use them, keeping them undercover from the rest of the Vong warriors, but ultimately he plans to erase their culture from the galaxy. Fett, traveling across Mandalore space reflects that his plan is so far working fine. The Republic believe the Mandalorians are in league with the Vong, while his own engineers are working on weapons designed specifically to fight them. Then an X-Wing drops into pursuit course, but when it makes contact through one of Fett's own intel nodes he stays his trigger finger. The Jedi he saved on New Holgha, a man named Kubariet asks to meet face to face. Working with New Republic Intelligence, Kubariet confirms that Fett has a deal, the Mandalorians will continue to masquerade as Vong mercenaries while at the same time passing intel to the Republic. Before he leaves, Kubariet asks if Fett will spare a few of his best commandos to act as a kind of new Cuy'val Dar to train planetary militias to fight the Vong. Kubariet gives Fett a secure datachip, if he wants to pass on intel then he can only do it through the Jedi, in return Fett hands over 'spare parts' he's collected from the Vong. When Kubariet asks if there's anything more he can do for Fett he tells him to make sure everyone knows that a Mandalorian named Briika Jeban died saving a citizen of the New Republic. When Kubariet asks who she saved, Fett simply says: 'You, Jedi, you.'\",\n          \" Deryni Checkmate takes places in March 1121, four months after the coronation of fourteen-year old King Kelson Haldane. The novel opens with the rabidly anti-Deryni leader of the Holy Church, Archbishop Edmund Loris, signing a letter that demands that the Deryni Duke of Corwyn, Alaric Morgan, recant his magical powers and submit to a life of penance. If he fails to do so, Loris threatens to excommunicate Morgan and place his entire duchy under interdict. Additionally, Morgan's cousin, Monsignor Duncan McLain, is suspended and summoned to an ecclesiastical trial to answer for his part in the events surrounding Kelson's coronation. After being warned of the threat, Kelson sends Duncan to warn Morgan of the upcoming trouble, fearing that Duncan's hidden Deryni heritage may be revealed by a trial. Duncan travels to Morgan's capital city of Coroth, where he informs his cousin of Loris' threat. In addition to the ecclesiastical threat, Morgan's duchy is being ravaged by an anti-Deryni fanatic named Warin de Grey, and the neighboring kingdom of Torenth is preparing to launch an invasion of Gwynedd. Fearing that an internal Gwyneddan conflict will weaken the kingdom prior to fighting an external enemy, Morgan and Duncan eventually decide to travel to the city of Dhassa and personally appeal to the Curia of Bishops. However, en route to Dhassa, Morgan is drugged and captured by Warin, who intends to burn the Deryni duke as a heretic. Duncan manages to rescue his cousin, but is forced to reveal his Deryni powers to ensure their escape. When the Curia learns of the cousins' actions, the two are soon excommunicated. Morgan and Duncan realize that appealing to the Curia is no longer an option, so they set out to meet with Kelson. Loris attempts to place Corwyn under Interdict, but a group of bishops refuses to participate in an action that would punish an entire duchy for the actions of its duke. Loris rages against the rebels, but he and his supporters are thrown out of Dhassa, effectively splitting the Curia. Kelson has traveled to the city of Culdi to attend the wedding of Morgan's sister, Bronwyn, and Duncan's half-brother, Kevin. Unknown to anyone, a jealous architect named Rimmell has fallen in love with Bronwyn and seeks to win her affections through the use of a love charm he acquires from an old witch woman. However, Rimmell's plan backfires horribly, and the charm kills both Bronwyn and Kevin. By the time Morgan and Duncan arrive in Culdi, Rimmell has been executed for his crime. Though Morgan is crushed with grief over the death of his sister, Kelson reminds him that he must still see to his duties. Facing an internal ecclesiastical schism, rebel fanatics ravaging his lands, and an imminent invasion from Torenth, Kelson cannot allow Morgan to wallow in his grief. Morgan agrees, and returns to his duties in service to the throne of Gwynedd.\"\n        ],\n        \"semantic_type\": \"\",\n        \"description\": \"\"\n      }\n    }\n  ]\n}"
            }
          },
          "metadata": {},
          "execution_count": 4
        }
      ]
    },
    {
      "cell_type": "code",
      "source": [
        "# Data Preprocessing\n",
        "\n",
        "def clean_text(text):\n",
        "    \"\"\"Clean and preprocess the text data.\"\"\"\n",
        "    text = re.sub(\"'\", \"\", text)\n",
        "    text = re.sub(\"[^a-zA-Z]\", \" \", text)\n",
        "    text = ' '.join(text.split())\n",
        "    text = text.lower()\n",
        "    return text"
      ],
      "metadata": {
        "id": "hzjwV4gNKjFp"
      },
      "execution_count": 5,
      "outputs": []
    },
    {
      "cell_type": "code",
      "source": [
        "# Apply text cleaning to the 'summary' column\n",
        "books['summary'] = books['summary'].apply(clean_text)"
      ],
      "metadata": {
        "id": "nTF_G1bEKi_b"
      },
      "execution_count": 6,
      "outputs": []
    },
    {
      "cell_type": "code",
      "source": [
        "plt.figure(figsize=(10, 6))\n",
        "sns.countplot(x='genre', data=books, hue= 'genre', palette='plasma')\n",
        "plt.title('Distribution of Book Genres')\n",
        "plt.xticks(rotation=45)\n",
        "plt.show()"
      ],
      "metadata": {
        "colab": {
          "base_uri": "https://localhost:8080/",
          "height": 636
        },
        "id": "oICAUZhSK7dv",
        "outputId": "57f60d2a-f136-47c8-ac45-81bfbe950d57"
      },
      "execution_count": 7,
      "outputs": [
        {
          "output_type": "display_data",
          "data": {
            "text/plain": [
              "<Figure size 1000x600 with 1 Axes>"
            ],
            "image/png": "[encoded data removed]"
          },
          "metadata": {}
        }
      ]
    },
    {
      "cell_type": "code",
      "source": [
        "# Display most frequent words\n",
        "def show_most_frequent_words(text, n_words=25):\n",
        "    \"\"\"Show the most frequent words in the text.\"\"\"\n",
        "    all_words = ' '.join([word for word in text])\n",
        "    all_words = all_words.split()\n",
        "    fdist = nltk.FreqDist(all_words)\n",
        "    words_df = pd.DataFrame({'word': list(fdist.keys()), 'count': list(fdist.values())})\n",
        "    d = words_df.nlargest(columns=\"count\", n=n_words)\n",
        "    plt.figure(figsize=(12,8))\n",
        "    ax = sns.barplot(data=d, x=\"count\", y=\"word\", hue= \"count\", palette='plasma')\n",
        "    ax.set(ylabel = 'Word')\n",
        "    plt.title(\"Most Frequent Words in Book Summary (Top {} Words)\".format(n_words))\n",
        "    plt.show()\n",
        "    return words_df"
      ],
      "metadata": {
        "id": "PXthKrL2K7Vn"
      },
      "execution_count": 8,
      "outputs": []
    },
    {
      "cell_type": "code",
      "source": [
        "words_df = show_most_frequent_words(books['summary'])"
      ],
      "metadata": {
        "colab": {
          "base_uri": "https://localhost:8080/",
          "height": 718
        },
        "id": "7qq4q8ymOnGl",
        "outputId": "49b3a01e-374d-4601-82b3-50efe517a56c"
      },
      "execution_count": 9,
      "outputs": [
        {
          "output_type": "display_data",
          "data": {
            "text/plain": [
              "<Figure size 1200x800 with 1 Axes>"
            ],
            "image/png": "[encoded data removed]"
          },
          "metadata": {}
        }
      ]
    },
    {
      "cell_type": "code",
      "source": [
        "# Remove stopwords\n",
        "stop_words = set(stopwords.words('english'))\n",
        "\n",
        "def remove_stopwords(text):\n",
        "    \"\"\"Remove stopwords from the text.\"\"\"\n",
        "    return ' '.join([word for word in text.split() if word not in stop_words])\n",
        "\n",
        "books['summary'] = books['summary'].apply(remove_stopwords)"
      ],
      "metadata": {
        "id": "9ktPmwsGK7OQ"
      },
      "execution_count": 10,
      "outputs": []
    },
    {
      "cell_type": "code",
      "source": [
        "# Lemmatization\n",
        "lemmatizer = WordNetLemmatizer()\n",
        "\n",
        "def lemmatize_text(text):\n",
        "    \"\"\"Lemmatize the text.\"\"\"\n",
        "    return ' '.join([lemmatizer.lemmatize(word) for word in text.split()])\n",
        "\n",
        "books['summary'] = books['summary'].apply(lemmatize_text)"
      ],
      "metadata": {
        "id": "_m2ZXyTPK7FC"
      },
      "execution_count": 11,
      "outputs": []
    },
    {
      "cell_type": "code",
      "source": [
        "# Stemming\n",
        "stemmer = PorterStemmer()\n",
        "\n",
        "def stem_text(text):\n",
        "    \"\"\"Stem the text.\"\"\"\n",
        "    return ' '.join([stemmer.stem(word) for word in text.split()])\n",
        "\n",
        "books['summary'] = books['summary'].apply(stem_text)"
      ],
      "metadata": {
        "id": "5nhEqziTLVnw"
      },
      "execution_count": 12,
      "outputs": []
    },
    {
      "cell_type": "code",
      "source": [
        "# Show most frequent words after preprocessing\n",
        "words_df_preprocessed = show_most_frequent_words(books['summary'])"
      ],
      "metadata": {
        "colab": {
          "base_uri": "https://localhost:8080/",
          "height": 718
        },
        "id": "PlnqPTb4LVgb",
        "outputId": "2d9d9cdf-5160-41f6-a4e8-c1eaa5d277a9"
      },
      "execution_count": 13,
      "outputs": [
        {
          "output_type": "display_data",
          "data": {
            "text/plain": [
              "<Figure size 1200x800 with 1 Axes>"
            ],
            "image/png": "[encoded data removed]"
          },
          "metadata": {}
        }
      ]
    },
    {
      "cell_type": "code",
      "source": [
        "# Encoding genres\n",
        "le = LabelEncoder()\n",
        "books['genre_encoded'] = le.fit_transform(books['genre'])"
      ],
      "metadata": {
        "id": "7-7BbPmZO3CC"
      },
      "execution_count": 14,
      "outputs": []
    },
    {
      "cell_type": "markdown",
      "source": [
        "# Model Building - Part 1: CountVectorizer"
      ],
      "metadata": {
        "id": "Wu16F24ULcQ-"
      }
    },
    {
      "cell_type": "code",
      "source": [
        "# Split the data\n",
        "X_train, X_test, y_train, y_test = train_test_split(books['summary'], books['genre_encoded'], test_size=0.2, random_state=557)"
      ],
      "metadata": {
        "id": "jPIENGQCLVZT"
      },
      "execution_count": 24,
      "outputs": []
    },
    {
      "cell_type": "code",
      "source": [
        "# CountVectorizer\n",
        "count_vec = CountVectorizer(max_df=0.90, min_df=2, max_features=1000, stop_words='english')\n",
        "X_train_count = count_vec.fit_transform(X_train)\n",
        "X_test_count = count_vec.transform(X_test)"
      ],
      "metadata": {
        "id": "jknemmSKLVSN"
      },
      "execution_count": 25,
      "outputs": []
    },
    {
      "cell_type": "code",
      "source": [
        "# Train and evaluate models\n",
        "models = {\n",
        "    'SVM': SVC(),\n",
        "    'Naive Bayes': MultinomialNB(),\n",
        "    'Random Forest': RandomForestClassifier()\n",
        "}"
      ],
      "metadata": {
        "id": "733sf6s_LVOA"
      },
      "execution_count": 26,
      "outputs": []
    },
    {
      "cell_type": "code",
      "source": [
        "for name, model in models.items():\n",
        "    model.fit(X_train_count, y_train)\n",
        "    y_pred = model.predict(X_test_count)\n",
        "    print(f\"{name} Accuracy with CountVectorizer: {metrics.accuracy_score(y_test, y_pred):.4f}\")"
      ],
      "metadata": {
        "colab": {
          "base_uri": "https://localhost:8080/"
        },
        "id": "Co3KbpufK69P",
        "outputId": "340c0ee4-760d-4264-90cf-08972ca4e152"
      },
      "execution_count": 27,
      "outputs": [
        {
          "output_type": "stream",
          "name": "stdout",
          "text": [
            "SVM Accuracy with CountVectorizer: 0.5783\n",
            "Naive Bayes Accuracy with CountVectorizer: 0.6917\n",
            "Random Forest Accuracy with CountVectorizer: 0.6133\n"
          ]
        }
      ]
    },
    {
      "cell_type": "markdown",
      "source": [
        "# Model Building - Part 2: TfidfVectorizer"
      ],
      "metadata": {
        "id": "afC0_QkSLpKL"
      }
    },
    {
      "cell_type": "code",
      "source": [
        "# TfidfVectorizer\n",
        "tfidf_vec = TfidfVectorizer(max_df=0.8, max_features=10000)\n",
        "X_train_tfidf = tfidf_vec.fit_transform(X_train.values.astype('U'))\n",
        "X_test_tfidf = tfidf_vec.transform(X_test.values.astype('U'))\n",
        "\n",
        "for name, model in models.items():\n",
        "    model.fit(X_train_tfidf, y_train)\n",
        "    y_pred = model.predict(X_test_tfidf)\n",
        "    print(f\"{name} Accuracy with TfidfVectorizer: {metrics.accuracy_score(y_test, y_pred):.4f}\")"
      ],
      "metadata": {
        "colab": {
          "base_uri": "https://localhost:8080/"
        },
        "id": "CtVGrPBSLpoh",
        "outputId": "53009592-3462-40b0-ffc1-ce6dfac0a2db"
      },
      "execution_count": 28,
      "outputs": [
        {
          "output_type": "stream",
          "name": "stdout",
          "text": [
            "SVM Accuracy with TfidfVectorizer: 0.7750\n",
            "Naive Bayes Accuracy with TfidfVectorizer: 0.7800\n",
            "Random Forest Accuracy with TfidfVectorizer: 0.6483\n"
          ]
        }
      ]
    },
    {
      "cell_type": "markdown",
      "source": [
        "# Model Building - Part 3: Hyperparameter Tuning"
      ],
      "metadata": {
        "id": "8nNdupxVLxH9"
      }
    },
    {
      "cell_type": "code",
      "source": [
        "# Grid search for SVM\n",
        "param_grid_svm = {'C': [0.1, 1, 10], 'kernel': ['linear', 'rbf']}\n",
        "grid_svm = GridSearchCV(SVC(), param_grid_svm, cv=5)\n",
        "grid_svm.fit(X_train_tfidf, y_train)\n",
        "\n",
        "print(\"Best parameters for SVM:\", grid_svm.best_params_)\n",
        "print(\"Best SVM Accuracy:\", grid_svm.best_score_)"
      ],
      "metadata": {
        "colab": {
          "base_uri": "https://localhost:8080/"
        },
        "id": "g6pUSexeLsXQ",
        "outputId": "b6a4df69-170e-4c04-84bc-3d6d6b295282"
      },
      "execution_count": 29,
      "outputs": [
        {
          "output_type": "stream",
          "name": "stdout",
          "text": [
            "Best parameters for SVM: {'C': 10, 'kernel': 'rbf'}\n",
            "Best SVM Accuracy: 0.7033333333333334\n"
          ]
        }
      ]
    },
    {
      "cell_type": "code",
      "source": [
        "# Grid search for Naive Bayes\n",
        "param_grid_nb = {'alpha': [0.1, 0.5, 1.0]}\n",
        "grid_nb = GridSearchCV(MultinomialNB(), param_grid_nb, cv=5)\n",
        "grid_nb.fit(X_train_tfidf, y_train)\n",
        "\n",
        "print(\"Best parameters for Naive Bayes:\", grid_nb.best_params_)\n",
        "print(\"Best Naive Bayes Accuracy:\", grid_nb.best_score_)"
      ],
      "metadata": {
        "colab": {
          "base_uri": "https://localhost:8080/"
        },
        "id": "juUxKE_ALsQo",
        "outputId": "3a3d3542-3fd5-48f3-bcc8-260e20f303a4"
      },
      "execution_count": 30,
      "outputs": [
        {
          "output_type": "stream",
          "name": "stdout",
          "text": [
            "Best parameters for Naive Bayes: {'alpha': 1.0}\n",
            "Best Naive Bayes Accuracy: 0.7183333333333333\n"
          ]
        }
      ]
    },
    {
      "cell_type": "code",
      "source": [
        "# Grid search for Random Forest\n",
        "param_grid_rf = {'n_estimators': [100, 200], 'max_depth': [10, 20, None]}\n",
        "grid_rf = GridSearchCV(RandomForestClassifier(), param_grid_rf, cv=5)\n",
        "grid_rf.fit(X_train_tfidf, y_train)\n",
        "\n",
        "print(\"Best parameters for Random Forest:\", grid_rf.best_params_)\n",
        "print(\"Best Random Forest Accuracy:\", grid_rf.best_score_)"
      ],
      "metadata": {
        "colab": {
          "base_uri": "https://localhost:8080/"
        },
        "id": "aqX76d0fMAAs",
        "outputId": "e1fc8aa5-d25d-43f3-923b-74e131b94e0a"
      },
      "execution_count": 31,
      "outputs": [
        {
          "output_type": "stream",
          "name": "stdout",
          "text": [
            "Best parameters for Random Forest: {'max_depth': None, 'n_estimators': 200}\n",
            "Best Random Forest Accuracy: 0.6475000000000001\n"
          ]
        }
      ]
    },
    {
      "cell_type": "code",
      "source": [
        "# Train the best model on the entire dataset\n",
        "best_model = MultinomialNB()  # MultinomialNB performed the best\n",
        "\n",
        "X_tfidf = tfidf_vec.fit_transform(books['summary'])\n",
        "best_model.fit(X_tfidf, books['genre_encoded'])"
      ],
      "metadata": {
        "colab": {
          "base_uri": "https://localhost:8080/",
          "height": 80
        },
        "id": "WQMZryCvL_4x",
        "outputId": "1f866523-a02b-466d-98d1-01bdd64177cd"
      },
      "execution_count": 33,
      "outputs": [
        {
          "output_type": "execute_result",
          "data": {
            "text/plain": [
              "MultinomialNB()"
            ],
            "text/html": [
              "<style>#sk-container-id-1 {\n",
              "  /* Definition of color scheme common for light and dark mode */\n",
              "  --sklearn-color-text: black;\n",
              "  --sklearn-color-line: gray;\n",
              "  /* Definition of color scheme for unfitted estimators */\n",
              "  --sklearn-color-unfitted-level-0: #fff5e6;\n",
              "  --sklearn-color-unfitted-level-1: #f6e4d2;\n",
              "  --sklearn-color-unfitted-level-2: #ffe0b3;\n",
              "  --sklearn-color-unfitted-level-3: chocolate;\n",
              "  /* Definition of color scheme for fitted estimators */\n",
              "  --sklearn-color-fitted-level-0: #f0f8ff;\n",
              "  --sklearn-color-fitted-level-1: #d4ebff;\n",
              "  --sklearn-color-fitted-level-2: #b3dbfd;\n",
              "  --sklearn-color-fitted-level-3: cornflowerblue;\n",
              "\n",
              "  /* Specific color for light theme */\n",
              "  --sklearn-color-text-on-default-background: var(--sg-text-color, var(--theme-code-foreground, var(--jp-content-font-color1, black)));\n",
              "  --sklearn-color-background: var(--sg-background-color, var(--theme-background, var(--jp-layout-color0, white)));\n",
              "  --sklearn-color-border-box: var(--sg-text-color, var(--theme-code-foreground, var(--jp-content-font-color1, black)));\n",
              "  --sklearn-color-icon: #696969;\n",
              "\n",
              "  @media (prefers-color-scheme: dark) {\n",
              "    /* Redefinition of color scheme for dark theme */\n",
              "    --sklearn-color-text-on-default-background: var(--sg-text-color, var(--theme-code-foreground, var(--jp-content-font-color1, white)));\n",
              "    --sklearn-color-background: var(--sg-background-color, var(--theme-background, var(--jp-layout-color0, #111)));\n",
              "    --sklearn-color-border-box: var(--sg-text-color, var(--theme-code-foreground, var(--jp-content-font-color1, white)));\n",
              "    --sklearn-color-icon: #878787;\n",
              "  }\n",
              "}\n",
              "\n",
              "#sk-container-id-1 {\n",
              "  color: var(--sklearn-color-text);\n",
              "}\n",
              "\n",
              "#sk-container-id-1 pre {\n",
              "  padding: 0;\n",
              "}\n",
              "\n",
              "#sk-container-id-1 input.sk-hidden--visually {\n",
              "  border: 0;\n",
              "  clip: rect(1px 1px 1px 1px);\n",
              "  clip: rect(1px, 1px, 1px, 1px);\n",
              "  height: 1px;\n",
              "  margin: -1px;\n",
              "  overflow: hidden;\n",
              "  padding: 0;\n",
              "  position: absolute;\n",
              "  width: 1px;\n",
              "}\n",
              "\n",
              "#sk-container-id-1 div.sk-dashed-wrapped {\n",
              "  border: 1px dashed var(--sklearn-color-line);\n",
              "  margin: 0 0.4em 0.5em 0.4em;\n",
              "  box-sizing: border-box;\n",
              "  padding-bottom: 0.4em;\n",
              "  background-color: var(--sklearn-color-background);\n",
              "}\n",
              "\n",
              "#sk-container-id-1 div.sk-container {\n",
              "  /* jupyter's `normalize.less` sets `[hidden] { display: none; }`\n",
              "     but bootstrap.min.css set `[hidden] { display: none !important; }`\n",
              "     so we also need the `!important` here to be able to override the\n",
              "     default hidden behavior on the sphinx rendered scikit-learn.org.\n",
              "     See: https://github.com/scikit-learn/scikit-learn/issues/21755 */\n",
              "  display: inline-block !important;\n",
              "  position: relative;\n",
              "}\n",
              "\n",
              "#sk-container-id-1 div.sk-text-repr-fallback {\n",
              "  display: none;\n",
              "}\n",
              "\n",
              "div.sk-parallel-item,\n",
              "div.sk-serial,\n",
              "div.sk-item {\n",
              "  /* draw centered vertical line to link estimators */\n",
              "  background-image: linear-gradient(var(--sklearn-color-text-on-default-background), var(--sklearn-color-text-on-default-background));\n",
              "  background-size: 2px 100%;\n",
              "  background-repeat: no-repeat;\n",
              "  background-position: center center;\n",
              "}\n",
              "\n",
              "/* Parallel-specific style estimator block */\n",
              "\n",
              "#sk-container-id-1 div.sk-parallel-item::after {\n",
              "  content: \"\";\n",
              "  width: 100%;\n",
              "  border-bottom: 2px solid var(--sklearn-color-text-on-default-background);\n",
              "  flex-grow: 1;\n",
              "}\n",
              "\n",
              "#sk-container-id-1 div.sk-parallel {\n",
              "  display: flex;\n",
              "  align-items: stretch;\n",
              "  justify-content: center;\n",
              "  background-color: var(--sklearn-color-background);\n",
              "  position: relative;\n",
              "}\n",
              "\n",
              "#sk-container-id-1 div.sk-parallel-item {\n",
              "  display: flex;\n",
              "  flex-direction: column;\n",
              "}\n",
              "\n",
              "#sk-container-id-1 div.sk-parallel-item:first-child::after {\n",
              "  align-self: flex-end;\n",
              "  width: 50%;\n",
              "}\n",
              "\n",
              "#sk-container-id-1 div.sk-parallel-item:last-child::after {\n",
              "  align-self: flex-start;\n",
              "  width: 50%;\n",
              "}\n",
              "\n",
              "#sk-container-id-1 div.sk-parallel-item:only-child::after {\n",
              "  width: 0;\n",
              "}\n",
              "\n",
              "/* Serial-specific style estimator block */\n",
              "\n",
              "#sk-container-id-1 div.sk-serial {\n",
              "  display: flex;\n",
              "  flex-direction: column;\n",
              "  align-items: center;\n",
              "  background-color: var(--sklearn-color-background);\n",
              "  padding-right: 1em;\n",
              "  padding-left: 1em;\n",
              "}\n",
              "\n",
              "\n",
              "/* Toggleable style: style used for estimator/Pipeline/ColumnTransformer box that is\n",
              "clickable and can be expanded/collapsed.\n",
              "- Pipeline and ColumnTransformer use this feature and define the default style\n",
              "- Estimators will overwrite some part of the style using the `sk-estimator` class\n",
              "*/\n",
              "\n",
              "/* Pipeline and ColumnTransformer style (default) */\n",
              "\n",
              "#sk-container-id-1 div.sk-toggleable {\n",
              "  /* Default theme specific background. It is overwritten whether we have a\n",
              "  specific estimator or a Pipeline/ColumnTransformer */\n",
              "  background-color: var(--sklearn-color-background);\n",
              "}\n",
              "\n",
              "/* Toggleable label */\n",
              "#sk-container-id-1 label.sk-toggleable__label {\n",
              "  cursor: pointer;\n",
              "  display: block;\n",
              "  width: 100%;\n",
              "  margin-bottom: 0;\n",
              "  padding: 0.5em;\n",
              "  box-sizing: border-box;\n",
              "  text-align: center;\n",
              "}\n",
              "\n",
              "#sk-container-id-1 label.sk-toggleable__label-arrow:before {\n",
              "  /* Arrow on the left of the label */\n",
              "  content: \"▸\";\n",
              "  float: left;\n",
              "  margin-right: 0.25em;\n",
              "  color: var(--sklearn-color-icon);\n",
              "}\n",
              "\n",
              "#sk-container-id-1 label.sk-toggleable__label-arrow:hover:before {\n",
              "  color: var(--sklearn-color-text);\n",
              "}\n",
              "\n",
              "/* Toggleable content - dropdown */\n",
              "\n",
              "#sk-container-id-1 div.sk-toggleable__content {\n",
              "  max-height: 0;\n",
              "  max-width: 0;\n",
              "  overflow: hidden;\n",
              "  text-align: left;\n",
              "  /* unfitted */\n",
              "  background-color: var(--sklearn-color-unfitted-level-0);\n",
              "}\n",
              "\n",
              "#sk-container-id-1 div.sk-toggleable__content.fitted {\n",
              "  /* fitted */\n",
              "  background-color: var(--sklearn-color-fitted-level-0);\n",
              "}\n",
              "\n",
              "#sk-container-id-1 div.sk-toggleable__content pre {\n",
              "  margin: 0.2em;\n",
              "  border-radius: 0.25em;\n",
              "  color: var(--sklearn-color-text);\n",
              "  /* unfitted */\n",
              "  background-color: var(--sklearn-color-unfitted-level-0);\n",
              "}\n",
              "\n",
              "#sk-container-id-1 div.sk-toggleable__content.fitted pre {\n",
              "  /* unfitted */\n",
              "  background-color: var(--sklearn-color-fitted-level-0);\n",
              "}\n",
              "\n",
              "#sk-container-id-1 input.sk-toggleable__control:checked~div.sk-toggleable__content {\n",
              "  /* Expand drop-down */\n",
              "  max-height: 200px;\n",
              "  max-width: 100%;\n",
              "  overflow: auto;\n",
              "}\n",
              "\n",
              "#sk-container-id-1 input.sk-toggleable__control:checked~label.sk-toggleable__label-arrow:before {\n",
              "  content: \"▾\";\n",
              "}\n",
              "\n",
              "/* Pipeline/ColumnTransformer-specific style */\n",
              "\n",
              "#sk-container-id-1 div.sk-label input.sk-toggleable__control:checked~label.sk-toggleable__label {\n",
              "  color: var(--sklearn-color-text);\n",
              "  background-color: var(--sklearn-color-unfitted-level-2);\n",
              "}\n",
              "\n",
              "#sk-container-id-1 div.sk-label.fitted input.sk-toggleable__control:checked~label.sk-toggleable__label {\n",
              "  background-color: var(--sklearn-color-fitted-level-2);\n",
              "}\n",
              "\n",
              "/* Estimator-specific style */\n",
              "\n",
              "/* Colorize estimator box */\n",
              "#sk-container-id-1 div.sk-estimator input.sk-toggleable__control:checked~label.sk-toggleable__label {\n",
              "  /* unfitted */\n",
              "  background-color: var(--sklearn-color-unfitted-level-2);\n",
              "}\n",
              "\n",
              "#sk-container-id-1 div.sk-estimator.fitted input.sk-toggleable__control:checked~label.sk-toggleable__label {\n",
              "  /* fitted */\n",
              "  background-color: var(--sklearn-color-fitted-level-2);\n",
              "}\n",
              "\n",
              "#sk-container-id-1 div.sk-label label.sk-toggleable__label,\n",
              "#sk-container-id-1 div.sk-label label {\n",
              "  /* The background is the default theme color */\n",
              "  color: var(--sklearn-color-text-on-default-background);\n",
              "}\n",
              "\n",
              "/* On hover, darken the color of the background */\n",
              "#sk-container-id-1 div.sk-label:hover label.sk-toggleable__label {\n",
              "  color: var(--sklearn-color-text);\n",
              "  background-color: var(--sklearn-color-unfitted-level-2);\n",
              "}\n",
              "\n",
              "/* Label box, darken color on hover, fitted */\n",
              "#sk-container-id-1 div.sk-label.fitted:hover label.sk-toggleable__label.fitted {\n",
              "  color: var(--sklearn-color-text);\n",
              "  background-color: var(--sklearn-color-fitted-level-2);\n",
              "}\n",
              "\n",
              "/* Estimator label */\n",
              "\n",
              "#sk-container-id-1 div.sk-label label {\n",
              "  font-family: monospace;\n",
              "  font-weight: bold;\n",
              "  display: inline-block;\n",
              "  line-height: 1.2em;\n",
              "}\n",
              "\n",
              "#sk-container-id-1 div.sk-label-container {\n",
              "  text-align: center;\n",
              "}\n",
              "\n",
              "/* Estimator-specific */\n",
              "#sk-container-id-1 div.sk-estimator {\n",
              "  font-family: monospace;\n",
              "  border: 1px dotted var(--sklearn-color-border-box);\n",
              "  border-radius: 0.25em;\n",
              "  box-sizing: border-box;\n",
              "  margin-bottom: 0.5em;\n",
              "  /* unfitted */\n",
              "  background-color: var(--sklearn-color-unfitted-level-0);\n",
              "}\n",
              "\n",
              "#sk-container-id-1 div.sk-estimator.fitted {\n",
              "  /* fitted */\n",
              "  background-color: var(--sklearn-color-fitted-level-0);\n",
              "}\n",
              "\n",
              "/* on hover */\n",
              "#sk-container-id-1 div.sk-estimator:hover {\n",
              "  /* unfitted */\n",
              "  background-color: var(--sklearn-color-unfitted-level-2);\n",
              "}\n",
              "\n",
              "#sk-container-id-1 div.sk-estimator.fitted:hover {\n",
              "  /* fitted */\n",
              "  background-color: var(--sklearn-color-fitted-level-2);\n",
              "}\n",
              "\n",
              "/* Specification for estimator info (e.g. \"i\" and \"?\") */\n",
              "\n",
              "/* Common style for \"i\" and \"?\" */\n",
              "\n",
              ".sk-estimator-doc-link,\n",
              "a:link.sk-estimator-doc-link,\n",
              "a:visited.sk-estimator-doc-link {\n",
              "  float: right;\n",
              "  font-size: smaller;\n",
              "  line-height: 1em;\n",
              "  font-family: monospace;\n",
              "  background-color: var(--sklearn-color-background);\n",
              "  border-radius: 1em;\n",
              "  height: 1em;\n",
              "  width: 1em;\n",
              "  text-decoration: none !important;\n",
              "  margin-left: 1ex;\n",
              "  /* unfitted */\n",
              "  border: var(--sklearn-color-unfitted-level-1) 1pt solid;\n",
              "  color: var(--sklearn-color-unfitted-level-1);\n",
              "}\n",
              "\n",
              ".sk-estimator-doc-link.fitted,\n",
              "a:link.sk-estimator-doc-link.fitted,\n",
              "a:visited.sk-estimator-doc-link.fitted {\n",
              "  /* fitted */\n",
              "  border: var(--sklearn-color-fitted-level-1) 1pt solid;\n",
              "  color: var(--sklearn-color-fitted-level-1);\n",
              "}\n",
              "\n",
              "/* On hover */\n",
              "div.sk-estimator:hover .sk-estimator-doc-link:hover,\n",
              ".sk-estimator-doc-link:hover,\n",
              "div.sk-label-container:hover .sk-estimator-doc-link:hover,\n",
              ".sk-estimator-doc-link:hover {\n",
              "  /* unfitted */\n",
              "  background-color: var(--sklearn-color-unfitted-level-3);\n",
              "  color: var(--sklearn-color-background);\n",
              "  text-decoration: none;\n",
              "}\n",
              "\n",
              "div.sk-estimator.fitted:hover .sk-estimator-doc-link.fitted:hover,\n",
              ".sk-estimator-doc-link.fitted:hover,\n",
              "div.sk-label-container:hover .sk-estimator-doc-link.fitted:hover,\n",
              ".sk-estimator-doc-link.fitted:hover {\n",
              "  /* fitted */\n",
              "  background-color: var(--sklearn-color-fitted-level-3);\n",
              "  color: var(--sklearn-color-background);\n",
              "  text-decoration: none;\n",
              "}\n",
              "\n",
              "/* Span, style for the box shown on hovering the info icon */\n",
              ".sk-estimator-doc-link span {\n",
              "  display: none;\n",
              "  z-index: 9999;\n",
              "  position: relative;\n",
              "  font-weight: normal;\n",
              "  right: .2ex;\n",
              "  padding: .5ex;\n",
              "  margin: .5ex;\n",
              "  width: min-content;\n",
              "  min-width: 20ex;\n",
              "  max-width: 50ex;\n",
              "  color: var(--sklearn-color-text);\n",
              "  box-shadow: 2pt 2pt 4pt #999;\n",
              "  /* unfitted */\n",
              "  background: var(--sklearn-color-unfitted-level-0);\n",
              "  border: .5pt solid var(--sklearn-color-unfitted-level-3);\n",
              "}\n",
              "\n",
              ".sk-estimator-doc-link.fitted span {\n",
              "  /* fitted */\n",
              "  background: var(--sklearn-color-fitted-level-0);\n",
              "  border: var(--sklearn-color-fitted-level-3);\n",
              "}\n",
              "\n",
              ".sk-estimator-doc-link:hover span {\n",
              "  display: block;\n",
              "}\n",
              "\n",
              "/* \"?\"-specific style due to the `<a>` HTML tag */\n",
              "\n",
              "#sk-container-id-1 a.estimator_doc_link {\n",
              "  float: right;\n",
              "  font-size: 1rem;\n",
              "  line-height: 1em;\n",
              "  font-family: monospace;\n",
              "  background-color: var(--sklearn-color-background);\n",
              "  border-radius: 1rem;\n",
              "  height: 1rem;\n",
              "  width: 1rem;\n",
              "  text-decoration: none;\n",
              "  /* unfitted */\n",
              "  color: var(--sklearn-color-unfitted-level-1);\n",
              "  border: var(--sklearn-color-unfitted-level-1) 1pt solid;\n",
              "}\n",
              "\n",
              "#sk-container-id-1 a.estimator_doc_link.fitted {\n",
              "  /* fitted */\n",
              "  border: var(--sklearn-color-fitted-level-1) 1pt solid;\n",
              "  color: var(--sklearn-color-fitted-level-1);\n",
              "}\n",
              "\n",
              "/* On hover */\n",
              "#sk-container-id-1 a.estimator_doc_link:hover {\n",
              "  /* unfitted */\n",
              "  background-color: var(--sklearn-color-unfitted-level-3);\n",
              "  color: var(--sklearn-color-background);\n",
              "  text-decoration: none;\n",
              "}\n",
              "\n",
              "#sk-container-id-1 a.estimator_doc_link.fitted:hover {\n",
              "  /* fitted */\n",
              "  background-color: var(--sklearn-color-fitted-level-3);\n",
              "}\n",
              "</style><div id=\"sk-container-id-1\" class=\"sk-top-container\"><div class=\"sk-text-repr-fallback\"><pre>MultinomialNB()</pre><b>In a Jupyter environment, please rerun this cell to show the HTML representation or trust the notebook. <br />On GitHub, the HTML representation is unable to render, please try loading this page with nbviewer.org.</b></div><div class=\"sk-container\" hidden><div class=\"sk-item\"><div class=\"sk-estimator fitted sk-toggleable\"><input class=\"sk-toggleable__control sk-hidden--visually\" id=\"sk-estimator-id-1\" type=\"checkbox\" checked><label for=\"sk-estimator-id-1\" class=\"sk-toggleable__label fitted sk-toggleable__label-arrow fitted\">&nbsp;&nbsp;MultinomialNB<a class=\"sk-estimator-doc-link fitted\" rel=\"noreferrer\" target=\"_blank\" href=\"https://scikit-learn.org/1.5/modules/generated/sklearn.naive_bayes.MultinomialNB.html\">?<span>Documentation for MultinomialNB</span></a><span class=\"sk-estimator-doc-link fitted\">i<span>Fitted</span></span></label><div class=\"sk-toggleable__content fitted\"><pre>MultinomialNB()</pre></div> </div></div></div></div>"
            ]
          },
          "metadata": {},
          "execution_count": 33
        }
      ]
    },
    {
      "cell_type": "code",
      "source": [
        "# Predict genres for all books\n",
        "books['predicted_genre_encoded'] = best_model.predict(X_tfidf)\n",
        "books['predicted_genre'] = le.inverse_transform(books['predicted_genre_encoded'])"
      ],
      "metadata": {
        "id": "2NuaGIhVWMPT"
      },
      "execution_count": 37,
      "outputs": []
    },
    {
      "cell_type": "code",
      "source": [
        "# Plot actual vs predicted genre distribution\n",
        "plt.figure(figsize=(12, 6))\n",
        "sns.countplot(x='genre', data=books, label='Actual')\n",
        "sns.countplot(x='predicted_genre', data=books, label='Predicted')\n",
        "plt.title('Actual vs Predicted Genre Distribution')\n",
        "plt.xticks(rotation=45)\n",
        "plt.legend()\n",
        "plt.tight_layout()\n",
        "plt.show()"
      ],
      "metadata": {
        "colab": {
          "base_uri": "https://localhost:8080/",
          "height": 607
        },
        "id": "kx5KOrUyWO47",
        "outputId": "c332fc81-c394-4045-b076-defd134d3505"
      },
      "execution_count": 38,
      "outputs": [
        {
          "output_type": "display_data",
          "data": {
            "text/plain": [
              "<Figure size 1200x600 with 1 Axes>"
            ],
            "image/png": "[encoded data removed]"
          },
          "metadata": {}
        }
      ]
    },
    {
      "cell_type": "code",
      "source": [
        "# Count and display actual vs predicted genres\n",
        "actual_counts = books['genre'].value_counts()\n",
        "predicted_counts = books['predicted_genre'].value_counts()\n",
        "\n",
        "print(\"Actual Genre Counts:\")\n",
        "print(actual_counts)\n",
        "print(\"\\nPredicted Genre Counts:\")\n",
        "print(predicted_counts)"
      ],
      "metadata": {
        "colab": {
          "base_uri": "https://localhost:8080/"
        },
        "id": "B00XtdzrWUwC",
        "outputId": "f75a31ed-3a57-45d7-902e-f6ed38b8fbc2"
      },
      "execution_count": 39,
      "outputs": [
        {
          "output_type": "stream",
          "name": "stdout",
          "text": [
            "Actual Genre Counts:\n",
            "genre\n",
            "Fantasy             500\n",
            "Science Fiction     500\n",
            "Crime Fiction       500\n",
            "Historical novel    500\n",
            "Horror              500\n",
            "Thriller            500\n",
            "Name: count, dtype: int64\n",
            "\n",
            "Predicted Genre Counts:\n",
            "predicted_genre\n",
            "Science Fiction     539\n",
            "Historical novel    522\n",
            "Crime Fiction       522\n",
            "Horror              494\n",
            "Thriller            471\n",
            "Fantasy             452\n",
            "Name: count, dtype: int64\n"
          ]
        }
      ]
    },
    {
      "cell_type": "code",
      "source": [
        "# Calculate and display accuracy\n",
        "accuracy = (books['genre'] == books['predicted_genre']).mean()\n",
        "print(f\"\\nOverall Accuracy: {accuracy:.4f}\")"
      ],
      "metadata": {
        "colab": {
          "base_uri": "https://localhost:8080/"
        },
        "id": "qlZ44TUoWYr1",
        "outputId": "d6eb345c-bbe1-40ab-f932-a30d5f46458e"
      },
      "execution_count": 40,
      "outputs": [
        {
          "output_type": "stream",
          "name": "stdout",
          "text": [
            "\n",
            "Overall Accuracy: 0.9300\n"
          ]
        }
      ]
    },
    {
      "cell_type": "code",
      "source": [
        "# Display confusion matrix\n",
        "from sklearn.metrics import confusion_matrix\n",
        "import seaborn as sns\n",
        "\n",
        "cm = confusion_matrix(books['genre'], books['predicted_genre'])\n",
        "plt.figure(figsize=(10, 8))\n",
        "sns.heatmap(cm, annot=True, fmt='d', cmap='Blues',\n",
        "            xticklabels=le.classes_, yticklabels=le.classes_)\n",
        "plt.title('Confusion Matrix')\n",
        "plt.xlabel('Predicted Genre')\n",
        "plt.ylabel('Actual Genre')\n",
        "plt.tight_layout()\n",
        "plt.show()"
      ],
      "metadata": {
        "colab": {
          "base_uri": "https://localhost:8080/",
          "height": 807
        },
        "id": "ffWxWcBYWdzy",
        "outputId": "9e4b14ed-b3f5-4fd1-c8a9-2104e7ab1fe4"
      },
      "execution_count": 41,
      "outputs": [
        {
          "output_type": "display_data",
          "data": {
            "text/plain": [
              "<Figure size 1000x800 with 2 Axes>"
            ],
            "image/png": "[encoded data removed]"
          },
          "metadata": {}
        }
      ]
    },
    {
      "cell_type": "code",
      "source": [
        "# Function to predict genre for new summaries\n",
        "def predict_genre(text):\n",
        "    \"\"\"Predict the genre of a given book summary.\"\"\"\n",
        "    # Preprocess the input text\n",
        "    text = clean_text(text)\n",
        "    text = remove_stopwords(text)\n",
        "    text = lemmatize_text(text)\n",
        "    text = stem_text(text)\n",
        "\n",
        "    # Transform the text using TfidfVectorizer\n",
        "    text_tfidf = tfidf_vec.transform([text])\n",
        "\n",
        "    # Predict the genre\n",
        "    genre_encoded = best_model.predict(text_tfidf)[0]\n",
        "    genre = le.inverse_transform([genre_encoded])[0]\n",
        "\n",
        "    return genre"
      ],
      "metadata": {
        "id": "aa1nqAD8L_bL"
      },
      "execution_count": 34,
      "outputs": []
    },
    {
      "cell_type": "code",
      "source": [
        "# Test the model with a sample summary\n",
        "sample_summary = \"\"\"\n",
        "The book tells the story of a young wizard who discovers he has magical powers and is invited to attend a school of witchcraft and wizardry.\n",
        "\"\"\"\n",
        "predicted_genre = predict_genre(sample_summary)\n",
        "print(f\"Predicted genre for the sample summary: {predicted_genre}\")"
      ],
      "metadata": {
        "colab": {
          "base_uri": "https://localhost:8080/"
        },
        "id": "cD3tzPSxL_Yg",
        "outputId": "e64131d7-e57a-406d-9dc7-e3fe307c442c"
      },
      "execution_count": 35,
      "outputs": [
        {
          "output_type": "stream",
          "name": "stdout",
          "text": [
            "Predicted genre for the sample summary: Fantasy\n"
          ]
        }
      ]
    },
    {
      "cell_type": "code",
      "source": [
        "# Save the model and necessary objects\n",
        "joblib.dump(best_model, '/content/drive/MyDrive/ML/Book genre classification/genre_prediction_model.joblib')\n",
        "joblib.dump(tfidf_vec, '/content/drive/MyDrive/ML/Book genre classification/tfidf_vectorizer.joblib')\n",
        "joblib.dump(le, '/content/drive/MyDrive/ML/Book genre classification/label_encoder.joblib')\n",
        "\n",
        "nltk.download('wordnet',download_dir='/content/drive/MyDrive/ML/Book genre classification/')\n",
        "nltk.download('stopwords',download_dir='/content/drive/MyDrive/ML/Book genre classification/')\n",
        "print(\"Model and necessary objects have been saved.\")"
      ],
      "metadata": {
        "colab": {
          "base_uri": "https://localhost:8080/"
        },
        "id": "HOXTCdhbL_SB",
        "outputId": "d2897974-dcad-4b53-b2ab-e3d6c330f862"
      },
      "execution_count": 36,
      "outputs": [
        {
          "output_type": "stream",
          "name": "stderr",
          "text": [
            "[nltk_data] Downloading package wordnet to\n",
            "[nltk_data]     /content/drive/MyDrive/ML/Book genre\n",
            "[nltk_data]     classification/...\n",
            "[nltk_data] Downloading package stopwords to\n",
            "[nltk_data]     /content/drive/MyDrive/ML/Book genre\n",
            "[nltk_data]     classification/...\n",
            "[nltk_data]   Unzipping corpora/stopwords.zip.\n"
          ]
        },
        {
          "output_type": "stream",
          "name": "stdout",
          "text": [
            "Model and necessary objects have been saved.\n"
          ]
        }
      ]
    }
  ]
}